{
 "cells": [
  {
   "cell_type": "markdown",
   "id": "f48d1e4f-5bf0-4291-9f10-e4fa452dfee6",
   "metadata": {},
   "source": [
    "1. Importar dependencias (cargar con conda install openai)"
   ]
  },
  {
   "cell_type": "code",
   "execution_count": 45,
   "id": "6f5e6bba-f9b0-4d27-a0c2-ceede346e2fd",
   "metadata": {
    "scrolled": true
   },
   "outputs": [],
   "source": [
    "\n",
    "#Import openAI dependences (module)\n",
    "import openai"
   ]
  },
  {
   "cell_type": "markdown",
   "id": "6180968b-5de0-4e1d-91e1-bb0607b62ebe",
   "metadata": {},
   "source": [
    "2. Utilizar la api key desde la pagina de openai"
   ]
  },
  {
   "cell_type": "code",
   "execution_count": 46,
   "id": "aaa13f6c-6aee-4ddd-92b7-33dbbf66ea3c",
   "metadata": {},
   "outputs": [],
   "source": [
    "#Add our API Key copied from openAI page\n",
    "openai.api_key = \"agrega aqui tu apikey desde openai\" #Example> dw-bQyr9128F49VJRNKAnST32lbkFJ2Zv4qEhWo4R0Xh6yrh15"
   ]
  },
  {
   "cell_type": "markdown",
   "id": "133396b5-0a78-4b9a-a1c0-8c81d7744f9b",
   "metadata": {},
   "source": [
    "3. Crear una solicitud"
   ]
  },
  {
   "cell_type": "code",
   "execution_count": 47,
   "id": "f7c1fc76-a9ea-4df9-9324-d83bba8bfc0c",
   "metadata": {
    "scrolled": true
   },
   "outputs": [],
   "source": [
    "#Make the context of our prompt envoirement\n",
    "context = 'Eres un asistente útil.'\n",
    "\n",
    "#prompt (text/user's question)\n",
    "prompt = \"Resuelve la ecuación: x + 10 = 5\""
   ]
  },
  {
   "cell_type": "markdown",
   "id": "a42ce140-d99c-492e-ad64-9de2719ea75e",
   "metadata": {},
   "source": [
    "4. Algoritmo"
   ]
  },
  {
   "cell_type": "code",
   "execution_count": 48,
   "id": "1ce51fc0-ce3e-4db1-8ab5-4d9447252af9",
   "metadata": {},
   "outputs": [
    {
     "name": "stdout",
     "output_type": "stream",
     "text": [
      "assistant: Para resolver la ecuación, necesitas restar 20 de ambos lados para resolver para x:\n",
      "\n",
      "x + 20 - 20 = 325 - 20.\n",
      "Esto simplifica a:\n",
      "\n",
      "x = 305.\n"
     ]
    }
   ],
   "source": [
    "# Make the request\n",
    "conversation = [\n",
    "    {\"role\": \"system\", \"content\": context},\n",
    "    {\"role\": \"user\", \"content\": prompt}\n",
    "]\n",
    "\n",
    "response = openai.ChatCompletion.create(\n",
    "    model='gpt-4',\n",
    "    messages=conversation,\n",
    "    max_tokens=500\n",
    ")\n",
    "\n",
    "message = response.choices[0]['message']\n",
    "print(\"{}: {}\".format(message['role'], message['content']))"
   ]
  },
  {
   "cell_type": "markdown",
   "id": "1e57d4c6-d1aa-48fc-80dd-530bfcebab65",
   "metadata": {},
   "source": [
    "5. Almacenar resultado y manipularlo en una variable"
   ]
  },
  {
   "cell_type": "code",
   "execution_count": 49,
   "id": "abb2ce41-0dc8-46f9-8137-aca58604bcbf",
   "metadata": {},
   "outputs": [
    {
     "name": "stdout",
     "output_type": "stream",
     "text": [
      "La solución es: Para resolver la ecuación, necesitas restar 20 de ambos lados para resolver para x:\n",
      "\n",
      "x + 20 - 20 = 325 - 20.\n",
      "Esto simplifica a:\n",
      "\n",
      "x = 305.\n"
     ]
    }
   ],
   "source": [
    "#Storage the response in a variable to use it\n",
    "result = response['choices'][0]['message']['content'].strip()\n",
    "\n",
    "#Use the variable\n",
    "print(\"La solución es:\", result)\n"
   ]
  },
  {
   "cell_type": "code",
   "execution_count": null,
   "id": "319a0bbc-0af1-4006-aea0-78dc22675505",
   "metadata": {},
   "outputs": [],
   "source": []
  }
 ],
 "metadata": {
  "kernelspec": {
   "display_name": "Python 3 (ipykernel)",
   "language": "python",
   "name": "python3"
  },
  "language_info": {
   "codemirror_mode": {
    "name": "ipython",
    "version": 3
   },
   "file_extension": ".py",
   "mimetype": "text/x-python",
   "name": "python",
   "nbconvert_exporter": "python",
   "pygments_lexer": "ipython3",
   "version": "3.10.13"
  }
 },
 "nbformat": 4,
 "nbformat_minor": 5
}
